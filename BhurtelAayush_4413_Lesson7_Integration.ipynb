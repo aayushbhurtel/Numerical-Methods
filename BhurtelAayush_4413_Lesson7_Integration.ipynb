{
  "nbformat": 4,
  "nbformat_minor": 0,
  "metadata": {
    "colab": {
      "provenance": [],
      "authorship_tag": "ABX9TyNcCEC9ViFlHQesECMTMXGI",
      "include_colab_link": true
    },
    "kernelspec": {
      "name": "python3",
      "display_name": "Python 3"
    },
    "language_info": {
      "name": "python"
    }
  },
  "cells": [
    {
      "cell_type": "markdown",
      "metadata": {
        "id": "view-in-github",
        "colab_type": "text"
      },
      "source": [
        "<a href=\"https://colab.research.google.com/github/aayushbhurtel/Numerical-Methods/blob/main/BhurtelAayush_4413_Lesson7_Integration.ipynb\" target=\"_parent\"><img src=\"https://colab.research.google.com/assets/colab-badge.svg\" alt=\"Open In Colab\"/></a>"
      ]
    },
    {
      "cell_type": "markdown",
      "source": [
        "\n",
        "\n",
        "Numerical Method CPSMA 441 Prof: Nicholas Jacobs\n",
        "\n",
        "Member(s): Hoang Tan Truong, Aakriti Khadka, Aayush Bhurtel, Jordan Moreno"
      ],
      "metadata": {
        "id": "jTqQEyK_kOcU"
      }
    },
    {
      "cell_type": "markdown",
      "source": [
        "# Project Module 7: Integration"
      ],
      "metadata": {
        "id": "Jn3LVH9COuLb"
      }
    },
    {
      "cell_type": "markdown",
      "source": [
        "our orginal function was:\n",
        "\n",
        "\n",
        "          f(x) = ln(x+1)\n",
        "\n",
        "let us set interval of [4,8] and find the area under the curve."
      ],
      "metadata": {
        "id": "nznT0C2slIqw"
      }
    },
    {
      "cell_type": "markdown",
      "source": [
        "lets load the required libraries."
      ],
      "metadata": {
        "id": "OZs2aOMLlZ5D"
      }
    },
    {
      "cell_type": "code",
      "execution_count": 13,
      "metadata": {
        "id": "P-mN-4e0fBk0"
      },
      "outputs": [],
      "source": [
        "\n",
        "import numpy as np\n",
        "from scipy import integrate\n",
        "import matplotlib.pyplot as plt\n",
        "import pandas as pa\n",
        "import math\n",
        "from prettytable import PrettyTable\n"
      ]
    },
    {
      "cell_type": "markdown",
      "source": [
        "lets graph the above function first. Here I have created a function which takes an argument as x and returns the numpy result of log(x+1). Next, I set the values for X-axis and Y-axis using linespace funtion of numpy. Rest is simply plotting the values and labeling them."
      ],
      "metadata": {
        "id": "64FzH1ginC45"
      }
    },
    {
      "cell_type": "code",
      "source": [
        "def function(x):\n",
        "    return np.log(x+1)\n",
        "\n",
        "x = np.linspace(4, 8, 100)\n",
        "y = function(x)\n",
        "\n",
        "plt.plot(x, y)\n",
        "\n",
        "plt.xlabel(\"x\")\n",
        "plt.ylabel(\"y\")\n",
        "plt.title(\"Graph of f(x) = ln(x+1) over [4,8]\")\n",
        "\n",
        "plt.show()"
      ],
      "metadata": {
        "colab": {
          "base_uri": "https://localhost:8080/",
          "height": 472
        },
        "id": "tuvPSn93nF_N",
        "outputId": "a4a466fb-ed6f-4f97-9613-e1dae36139d1"
      },
      "execution_count": 14,
      "outputs": [
        {
          "output_type": "display_data",
          "data": {
            "text/plain": [
              "<Figure size 640x480 with 1 Axes>"
            ],
            "image/png": "[encoded data removed]"
          },
          "metadata": {}
        }
      ]
    },
    {
      "cell_type": "markdown",
      "source": [
        "Now, I am going to use scipy package to integrate the function\n",
        "\n",
        "f(x) = ln(x+1).\n",
        "\n",
        "First, we define the function, func which takes x as a argument.\n",
        "\n",
        "we define the limits with lower at 4 and higher at 8.\n",
        "\n",
        "Now, we use the quad function to calculate integral with parameters of func function and both lower and upper limit.\n"
      ],
      "metadata": {
        "id": "AF3Dqbl7p-i-"
      }
    },
    {
      "cell_type": "code",
      "source": [
        "def func(x):\n",
        "    return np.log(x+1)\n",
        "a = 4 ; b = 8\n",
        "\n",
        "result, error = integrate.quad(func, a, b)  # from scipy package\n",
        "\n",
        "print(\"Integral is:\", result)"
      ],
      "metadata": {
        "colab": {
          "base_uri": "https://localhost:8080/"
        },
        "id": "gGdnkwQgqwPc",
        "outputId": "54488a1c-a804-4eea-ea98-4b22b95e16b1"
      },
      "execution_count": 15,
      "outputs": [
        {
          "output_type": "stream",
          "name": "stdout",
          "text": [
            "Integral is: 7.727831633855475\n"
          ]
        }
      ]
    },
    {
      "cell_type": "markdown",
      "source": [
        "Lets do this by hand.\n",
        "\n",
        "\\begin{align}\n",
        "A &= \\int_4^8 \\ln(x+1) dx \\\\\n",
        "&= \\int_4^8 \\ln(u) du && \\\\\n",
        "{(Applying \\;u-substitution\\;with\\;(u = x+1)}\\\\\n",
        "&= \\left[u\\ln(u) - \\int du\\right]_5^9 && \\\\{(Using\\;integration\\;by\\;parts)} \\\\\n",
        "&= \\bigg[u\\ln(u) - u\\bigg]_5^9 && \\\\\n",
        "&= 18\\ln(3) - 4 - 5\\ln(5) && \\\\\n",
        "&\\approx 7.7278 &&\n",
        "\\end{align}"
      ],
      "metadata": {
        "id": "cF2KXsk99Msr"
      }
    },
    {
      "cell_type": "markdown",
      "source": [
        "\n",
        "\n",
        "Here I created a riemannSum function which takes an arguement with interval of [4,8]. declared variables and width with formula, created a for-loop to calculate the sum and returned it at the end of function.\n",
        "\n",
        "Defined another function called func which returns the value of ln(x+1) for a given x. Then we pass the function as a argument to intregrate.quad function.\n",
        "\n",
        "Next, I used a prettyTable package to create a pretty table as a output. I used a for loop to loop through with pre defined values to create a table for riemann sum. "
      ],
      "metadata": {
        "id": "B7GxtX1h_1vO"
      }
    },
    {
      "cell_type": "code",
      "source": [
        "import math\n",
        "import scipy.integrate as integrate\n",
        "from prettytable import PrettyTable\n",
        "\n",
        "def riemann_sum(n):\n",
        "    a = 4\n",
        "    b = 8\n",
        "    width = (b - a) / n  # width of each rectangle\n",
        "    x = a\n",
        "    sum = 0  # initialize sum and starting point\n",
        "\n",
        "    for i in range(n): # Right Endpoint\n",
        "        x += width # move to the right endpoint\n",
        "        sum += math.log(x + 1) * width  # add area of rectangle\n",
        "\n",
        "    return sum\n",
        "\n",
        "def func(x):\n",
        "    return math.log(x + 1)\n",
        "\n",
        "exact_value, _ = integrate.quad(func, 4, 8)\n",
        "\n",
        "print(\"Exact value: {:.4f}\".format(exact_value))\n",
        "\n",
        "table = PrettyTable()\n",
        "table.field_names = [\"Number of rectangles\", \"Riemann sum\", \"Error\"]\n",
        "\n",
        "for n in [10, 50, 100, 150, 200]:\n",
        "    approx_value = riemann_sum(n)\n",
        "    error = abs(approx_value - exact_value)\n",
        "    table.add_row([n, \"{:.4f}\".format(approx_value), \"{:.4f}\".format(error)])\n",
        "\n",
        "print(table)\n"
      ],
      "metadata": {
        "colab": {
          "base_uri": "https://localhost:8080/"
        },
        "id": "OPh7SGIJ-EwU",
        "outputId": "6b6d3d6c-7990-4de2-b4bb-f5e428703423"
      },
      "execution_count": 16,
      "outputs": [
        {
          "output_type": "stream",
          "name": "stdout",
          "text": [
            "Exact value: 7.7278\n",
            "+----------------------+-------------+--------+\n",
            "| Number of rectangles | Riemann sum | Error  |\n",
            "+----------------------+-------------+--------+\n",
            "|          10          |    7.8442   | 0.1164 |\n",
            "|          50          |    7.7513   | 0.0235 |\n",
            "|         100          |    7.7396   | 0.0117 |\n",
            "|         150          |    7.7357   | 0.0078 |\n",
            "|         200          |    7.7337   | 0.0059 |\n",
            "+----------------------+-------------+--------+\n"
          ]
        }
      ]
    },
    {
      "cell_type": "markdown",
      "source": [
        "Create an algorithm for computing either the trapezoid or simpson’s rule. Make sure to be able\n",
        "to change the number of intervals."
      ],
      "metadata": {
        "id": "XvPZlCKjPrp3"
      }
    },
    {
      "cell_type": "code",
      "source": [
        "def f(x):\n",
        "    return math.log(x+1)\n",
        "\n",
        "def deltaX(a,b,n):\n",
        "    return (b-a)/n\n",
        "\n",
        "def rmSum(function, a, b, n, choice = 'right'):\n",
        "    dx = deltaX(a,b,n)\n",
        "    if choice == 'right':\n",
        "        start=1\n",
        "    elif choice == 'left':\n",
        "        start=0\n",
        "    elif choice == 'mid':\n",
        "        start = 0\n",
        "    sum = 0\n",
        "    for i in range(start, n+start):\n",
        "        if choice != 'mid':\n",
        "            sum = sum + function(a+i*dx)*dx\n",
        "        else:\n",
        "            sum = sum + function(a+(i+0.5)*dx)*dx\n",
        "    return sum"
      ],
      "metadata": {
        "id": "B9Dxc-dUq1lf"
      },
      "execution_count": 23,
      "outputs": []
    },
    {
      "cell_type": "code",
      "source": [
        "rmSum(f,0,np.pi,10,'right')"
      ],
      "metadata": {
        "colab": {
          "base_uri": "https://localhost:8080/"
        },
        "id": "2wDJQFjWIRI6",
        "outputId": "47e3879a-eab0-49fe-f158-c82eba5c5b7a"
      },
      "execution_count": 24,
      "outputs": [
        {
          "output_type": "execute_result",
          "data": {
            "text/plain": [
              "2.9609534992659325"
            ]
          },
          "metadata": {},
          "execution_count": 24
        }
      ]
    },
    {
      "cell_type": "code",
      "source": [
        "rmSum(f,1,4,10,'left')"
      ],
      "metadata": {
        "colab": {
          "base_uri": "https://localhost:8080/"
        },
        "id": "DgR8foRWIS0P",
        "outputId": "124eb95f-e53e-4553-d615-c76d326dd4a5"
      },
      "execution_count": 25,
      "outputs": [
        {
          "output_type": "execute_result",
          "data": {
            "text/plain": [
              "3.5212042061696383"
            ]
          },
          "metadata": {},
          "execution_count": 25
        }
      ]
    },
    {
      "cell_type": "code",
      "source": [
        "rmSum(f,1,4,10,'mid')"
      ],
      "metadata": {
        "colab": {
          "base_uri": "https://localhost:8080/"
        },
        "id": "Vo2XSD_EIUxJ",
        "outputId": "b9a3e573-4371-43a9-992b-54c6d8c7d3a0"
      },
      "execution_count": 26,
      "outputs": [
        {
          "output_type": "execute_result",
          "data": {
            "text/plain": [
              "3.6620179146560967"
            ]
          },
          "metadata": {},
          "execution_count": 26
        }
      ]
    },
    {
      "cell_type": "markdown",
      "source": [
        "CREATE A TABLE WITH DIFFERENT METHOD AND NUMBER OF RECT"
      ],
      "metadata": {
        "id": "ta7e_CRaIW6T"
      }
    },
    {
      "cell_type": "code",
      "source": [
        "def simpsonOneThird(function,a,b,n):\n",
        "    dx = deltaX(a,b,n)\n",
        "    sum = 0\n",
        "    sum = sum + function(a)\n",
        "    sum = sum + function(b)\n",
        "    for i in range(n):\n",
        "        if i==a or i==b:\n",
        "            continue\n",
        "        elif i != a and i != b and i%2 == 0:\n",
        "            sum = sum + 2*function(a+dx*i)\n",
        "        elif i != a and i != b and i%2 != 0:\n",
        "            sum = sum + 4*function(a+dx*i)\n",
        "    sum = dx/3*sum\n",
        "    return sum"
      ],
      "metadata": {
        "id": "r5Lqu9JfIXXI"
      },
      "execution_count": 27,
      "outputs": []
    },
    {
      "cell_type": "code",
      "source": [
        "rmSum(f,1,4,10,'left')"
      ],
      "metadata": {
        "colab": {
          "base_uri": "https://localhost:8080/"
        },
        "id": "9p26pgUgIavI",
        "outputId": "0f9af00f-66ba-4d5e-9415-27deffa49d03"
      },
      "execution_count": 28,
      "outputs": [
        {
          "output_type": "execute_result",
          "data": {
            "text/plain": [
              "3.5212042061696383"
            ]
          },
          "metadata": {},
          "execution_count": 28
        }
      ]
    },
    {
      "cell_type": "code",
      "source": [
        "simpsonOneThird(f, 1, 4, 10)"
      ],
      "metadata": {
        "colab": {
          "base_uri": "https://localhost:8080/"
        },
        "id": "-kliJ-4QIcZL",
        "outputId": "6ecd79a0-fc4d-43e5-9b18-6675343d8a11"
      },
      "execution_count": 29,
      "outputs": [
        {
          "output_type": "execute_result",
          "data": {
            "text/plain": [
              "3.2337206311138202"
            ]
          },
          "metadata": {},
          "execution_count": 29
        }
      ]
    },
    {
      "cell_type": "code",
      "source": [
        "rmSum(f,1,4,10,'right')"
      ],
      "metadata": {
        "colab": {
          "base_uri": "https://localhost:8080/"
        },
        "id": "5Q5WRv-SId8_",
        "outputId": "ac3fe3ad-fd4b-405f-edb2-53fcffdff376"
      },
      "execution_count": 30,
      "outputs": [
        {
          "output_type": "execute_result",
          "data": {
            "text/plain": [
              "3.796091425731884"
            ]
          },
          "metadata": {},
          "execution_count": 30
        }
      ]
    },
    {
      "cell_type": "code",
      "source": [
        "rmSum(f,1,4,10,'mid')"
      ],
      "metadata": {
        "colab": {
          "base_uri": "https://localhost:8080/"
        },
        "id": "1d1KVZe2IgD_",
        "outputId": "42128bd8-f846-40e7-cd97-b22ca1687e08"
      },
      "execution_count": 31,
      "outputs": [
        {
          "output_type": "execute_result",
          "data": {
            "text/plain": [
              "3.6620179146560967"
            ]
          },
          "metadata": {},
          "execution_count": 31
        }
      ]
    },
    {
      "cell_type": "code",
      "source": [
        "numOfRect = [5,10,15,100,1000]"
      ],
      "metadata": {
        "id": "ZWUZhpUUIh2o"
      },
      "execution_count": 32,
      "outputs": []
    },
    {
      "cell_type": "markdown",
      "source": [
        "Report\n",
        "\n",
        "In conclusion, we found the area under the curve of are orginal function: f(x) = ln(x+1) with an interval between [4,8].\n",
        "We then used intergrate.quad to cheack are answer, which was about 7.7278. The answer that intergrate.quad got was the same as ours.\n",
        "After we got the answer for our function, we then created a riemann sum using the right endpoints.\n",
        "As you can see in the chart, when we used a different number of rectangles we got a different error.\n",
        "Also, you can see that the more rectangles we used, the more error we got.\n",
        "We also created an algorithm for computing Simpson's rule.\n",
        "We used this algorithm for are function on the interval [1,4], with 10 subintervals. We calculated the answer to be about .8151719.\n",
        "Given a strictly increasing function, decreasing, or undulating function, we would use Simpson's rule.\n",
        "The reason why is because the trapezoidal rule mostly defines the average of the left and right hand of the riemann sums.\n",
        "While simpson's rule defines the weighted average that gives the accurate approximation because in simpson's rule quadratic approximaions is used.\n",
        "Trapezoidal rule uses linear approximation which gives less accurate results than quadratic approximation."
      ],
      "metadata": {
        "id": "OFQcIh6rHzPc"
      }
    }
  ]
}